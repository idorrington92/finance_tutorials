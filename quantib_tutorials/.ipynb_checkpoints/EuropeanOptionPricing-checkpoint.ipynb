{
 "cells": [
  {
   "cell_type": "code",
   "execution_count": 1,
   "id": "490d216f",
   "metadata": {},
   "outputs": [],
   "source": [
    "import QuantLib as ql"
   ]
  },
  {
   "cell_type": "code",
   "execution_count": 2,
   "id": "8715dbf4",
   "metadata": {},
   "outputs": [],
   "source": [
    "today = ql.Date(21, ql.June, 2021)\n",
    "ql.Settings.instance().evaluationDate = today"
   ]
  },
  {
   "cell_type": "markdown",
   "id": "bd53bd8b",
   "metadata": {},
   "source": [
    "Here we define the option type. We choose a European option. It takes two argumenets, the payoff type and the exercise type. We chose a £100 plain vanilla call option, maturing in 3 months. "
   ]
  },
  {
   "cell_type": "code",
   "execution_count": 3,
   "id": "f7412091",
   "metadata": {},
   "outputs": [],
   "source": [
    "option = ql.EuropeanOption(ql.PlainVanillaPayoff(ql.Option.Call, 100),\n",
    "                           ql.EuropeanExercise(ql.Date(21, ql.September, 2021)))"
   ]
  },
  {
   "cell_type": "markdown",
   "id": "b8a77dac",
   "metadata": {},
   "source": [
    "Here we set the underlying asset price to £100, the risk-free interest rate to 1%, and the volatility to 20%. The SimpleQuote class let's you observe the value and will notify you when it changes"
   ]
  },
  {
   "cell_type": "code",
   "execution_count": 4,
   "id": "d51b39b9",
   "metadata": {},
   "outputs": [],
   "source": [
    "u = ql.SimpleQuote(100)\n",
    "r = ql.SimpleQuote(0.01)\n",
    "sigma = ql.SimpleQuote(0.2)"
   ]
  },
  {
   "cell_type": "markdown",
   "id": "9a082a51",
   "metadata": {},
   "source": [
    "The BlackScholesProcess needs the underlying asset price (which we already defined) and curves desribing the risk-free interest rate and volatility. We define these curves below. Note that TARGET is a calendar object and Actual360 is a day counter object."
   ]
  },
  {
   "cell_type": "code",
   "execution_count": 5,
   "id": "6281c8a1",
   "metadata": {},
   "outputs": [],
   "source": [
    "riskFreeCurve = ql.FlatForward(0, ql.TARGET(), ql.QuoteHandle(r), ql.Actual360())"
   ]
  },
  {
   "cell_type": "code",
   "execution_count": 6,
   "id": "236aaf15",
   "metadata": {},
   "outputs": [],
   "source": [
    "volatility = ql.BlackConstantVol(0, ql.TARGET(), ql.QuoteHandle(sigma), ql.Actual360())"
   ]
  },
  {
   "cell_type": "code",
   "execution_count": 7,
   "id": "1f62f233",
   "metadata": {
    "scrolled": true
   },
   "outputs": [],
   "source": [
    "process = ql.BlackScholesProcess(ql.QuoteHandle(u),\n",
    "                                 ql.YieldTermStructureHandle(riskFreeCurve),\n",
    "                                 ql.BlackVolTermStructureHandle(volatility))"
   ]
  },
  {
   "cell_type": "markdown",
   "id": "2e0da765",
   "metadata": {},
   "source": [
    "Build the engine"
   ]
  },
  {
   "cell_type": "code",
   "execution_count": 8,
   "id": "e04e536f",
   "metadata": {},
   "outputs": [],
   "source": [
    "engine = ql.AnalyticEuropeanEngine(process)"
   ]
  },
  {
   "cell_type": "markdown",
   "id": "1e0f3074",
   "metadata": {},
   "source": [
    "Now set this to be the option pricing engine"
   ]
  },
  {
   "cell_type": "code",
   "execution_count": 9,
   "id": "e8ee637e",
   "metadata": {},
   "outputs": [],
   "source": [
    "option.setPricingEngine(engine)"
   ]
  },
  {
   "cell_type": "markdown",
   "id": "ed39904c",
   "metadata": {},
   "source": [
    "Now we can evalutate the option"
   ]
  },
  {
   "cell_type": "code",
   "execution_count": 10,
   "id": "1cae5a4b",
   "metadata": {},
   "outputs": [
    {
     "data": {
      "text/plain": [
       "4.155543462156206"
      ]
     },
     "execution_count": 10,
     "metadata": {},
     "output_type": "execute_result"
    }
   ],
   "source": [
    "option.NPV() # Current price (Net present value)"
   ]
  },
  {
   "cell_type": "code",
   "execution_count": 11,
   "id": "100208a3",
   "metadata": {},
   "outputs": [
    {
     "name": "stdout",
     "output_type": "stream",
     "text": [
      "0.5302223303784392\n",
      "0.03934493301271913\n",
      "20.109632428723106\n"
     ]
    }
   ],
   "source": [
    "# Greeks\n",
    "print(option.delta())\n",
    "print(option.gamma())\n",
    "print(option.vega())"
   ]
  },
  {
   "cell_type": "markdown",
   "id": "88bef511",
   "metadata": {},
   "source": [
    "<h3> Market Changes </h3>\n",
    "\n",
    "The option object will automatically update all values when any value is changed."
   ]
  },
  {
   "cell_type": "code",
   "execution_count": 12,
   "id": "dc3f499e",
   "metadata": {},
   "outputs": [
    {
     "name": "stdout",
     "output_type": "stream",
     "text": [
      "4.155543462156206\n",
      "7.27556357927846\n"
     ]
    }
   ],
   "source": [
    "print(option.NPV())\n",
    "u.setValue(105)\n",
    "print(option.NPV())"
   ]
  },
  {
   "cell_type": "markdown",
   "id": "b9bab74f",
   "metadata": {},
   "source": [
    "We can use this to plot how price changes with a variable"
   ]
  },
  {
   "cell_type": "code",
   "execution_count": 13,
   "id": "d4677bc1",
   "metadata": {},
   "outputs": [],
   "source": [
    "import numpy as np\n",
    "\n",
    "import matplotlib.pyplot as plt\n",
    "import matplotlib as mpl\n",
    "\n",
    "plt.style.use('seaborn')\n",
    "mpl.rcParams['axes.labelsize'] = 18\n",
    "mpl.rcParams['xtick.labelsize'] = 14\n",
    "mpl.rcParams['ytick.labelsize'] = 14\n",
    "mpl.rcParams['font.family'] = 'serif'"
   ]
  },
  {
   "cell_type": "code",
   "execution_count": 14,
   "id": "61f69677",
   "metadata": {},
   "outputs": [
    {
     "data": {
      "text/plain": [
       "[<matplotlib.lines.Line2D at 0x7fd7a84840d0>]"
      ]
     },
     "execution_count": 14,
     "metadata": {},
     "output_type": "execute_result"
    },
    {
     "data": {
      "image/png": "[encoded data removed]",
      "text/plain": [
       "<Figure size 576x396 with 1 Axes>"
      ]
     },
     "metadata": {},
     "output_type": "display_data"
    }
   ],
   "source": [
    "xs = np.arange(80.0, 120.0)\n",
    "ys = np.zeros_like(xs)\n",
    "\n",
    "for i, x in enumerate(xs):\n",
    "    u.setValue(x)\n",
    "    ys[i] = option.NPV()\n",
    "\n",
    "plt.plot(xs, ys)"
   ]
  },
  {
   "cell_type": "code",
   "execution_count": 15,
   "id": "24d04d1b",
   "metadata": {},
   "outputs": [],
   "source": [
    "import pandas as pd\n",
    "from datetime import datetime"
   ]
  },
  {
   "cell_type": "code",
   "execution_count": 16,
   "id": "050e988d",
   "metadata": {},
   "outputs": [
    {
     "data": {
      "text/plain": [
       "<AxesSubplot:>"
      ]
     },
     "execution_count": 16,
     "metadata": {},
     "output_type": "execute_result"
    },
    {
     "data": {
      "image/png": "[encoded data removed]",
      "text/plain": [
       "<Figure size 576x396 with 1 Axes>"
      ]
     },
     "metadata": {},
     "output_type": "display_data"
    }
   ],
   "source": [
    "months = (ql.June, ql.July, ql.August)\n",
    "\n",
    "days = (np.arange(21, 31), np.arange(1, 32), np.arange(1, 22))\n",
    "\n",
    "ys = []\n",
    "\n",
    "for m, month in enumerate(months):\n",
    "    for day in days[m]:\n",
    "        # note numpy datatypes cause issues, so we convert to python int\n",
    "        ql.Settings.instance().evaluationDate = ql.Date(int(day), month, 2021) \n",
    "        ys.append(option.NPV())\n",
    "\n",
    "pd.DataFrame(ys, index=pd.date_range(datetime(2021, 6, 21), datetime(2021, 8, 21))).plot(legend=None)"
   ]
  },
  {
   "cell_type": "code",
   "execution_count": null,
   "id": "da4b8854",
   "metadata": {},
   "outputs": [],
   "source": []
  }
 ],
 "metadata": {
  "kernelspec": {
   "display_name": "Python 3",
   "language": "python",
   "name": "python3"
  },
  "language_info": {
   "codemirror_mode": {
    "name": "ipython",
    "version": 3
   },
   "file_extension": ".py",
   "mimetype": "text/x-python",
   "name": "python",
   "nbconvert_exporter": "python",
   "pygments_lexer": "ipython3",
   "version": "3.7.10"
  }
 },
 "nbformat": 4,
 "nbformat_minor": 5
}
