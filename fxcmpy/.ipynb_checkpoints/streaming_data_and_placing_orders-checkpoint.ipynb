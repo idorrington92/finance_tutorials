{
 "cells": [
  {
   "cell_type": "code",
   "execution_count": 1,
   "id": "cbc7c447",
   "metadata": {},
   "outputs": [],
   "source": [
    "# imports\n",
    "import pandas as pd\n",
    "\n",
    "import fxcmpy"
   ]
  },
  {
   "cell_type": "code",
   "execution_count": 2,
   "id": "f7622eea",
   "metadata": {},
   "outputs": [],
   "source": [
    "TOKEN = \"6bcb809cd84d12119c60208707f68be34de8cd39\"\n",
    "api = fxcmpy.fxcmpy(access_token=TOKEN, log_level=\"error\")"
   ]
  },
  {
   "cell_type": "markdown",
   "id": "76f5614b",
   "metadata": {},
   "source": [
    "<h2> Subscribing to Data Streams </h2>\n",
    "\n",
    "To stream data we use the subscribe_market_data function. We can give this a callback function to process the data as it comes in. The callback function needs two arguments, 'data' which processes the current incoming line of data and 'dataframe' which stores previously streamed data. Here we simply print the data."
   ]
  },
  {
   "cell_type": "code",
   "execution_count": 3,
   "id": "fe024e70",
   "metadata": {},
   "outputs": [],
   "source": [
    "def output(data, dataframe):\n",
    "    print('%3d | %s | %s | %6.5f, %6.5f'\n",
    "          % (len(dataframe), data['Symbol'],\n",
    "            pd.to_datetime(int(data['Updated']), unit='ms'),\n",
    "            data['Rates'][0], data['Rates'][1]))"
   ]
  },
  {
   "cell_type": "code",
   "execution_count": 4,
   "id": "89b9e06e",
   "metadata": {},
   "outputs": [],
   "source": [
    "symbol = 'EUR/USD'"
   ]
  },
  {
   "cell_type": "code",
   "execution_count": 5,
   "id": "40fcca18",
   "metadata": {},
   "outputs": [],
   "source": [
    "api.subscribe_market_data(symbol, (output,))"
   ]
  },
  {
   "cell_type": "code",
   "execution_count": 6,
   "id": "7374ee7e",
   "metadata": {},
   "outputs": [
    {
     "data": {
      "text/plain": [
       "Bid     1.17665\n",
       "Ask     1.17761\n",
       "High    1.17871\n",
       "Low     1.17538\n",
       "Name: 2021-07-23 20:59:01.507000, dtype: float64"
      ]
     },
     "execution_count": 6,
     "metadata": {},
     "output_type": "execute_result"
    }
   ],
   "source": [
    "api.get_last_price(symbol)"
   ]
  },
  {
   "cell_type": "code",
   "execution_count": 7,
   "id": "eb0f4112",
   "metadata": {},
   "outputs": [],
   "source": [
    "api.unsubscribe_market_data(symbol)"
   ]
  },
  {
   "cell_type": "markdown",
   "id": "432f8fe4",
   "metadata": {},
   "source": [
    "<h2> Placing Orders </h2>\n",
    "Below we create buy and sell orders for EUR/USD snd GBP/USD. At each stage we check our open positions. At the end we show how to close positions based on symbol or how to simply close all positions."
   ]
  },
  {
   "cell_type": "code",
   "execution_count": 8,
   "id": "7326d010",
   "metadata": {},
   "outputs": [
    {
     "data": {
      "text/html": [
       "<div>\n",
       "<style scoped>\n",
       "    .dataframe tbody tr th:only-of-type {\n",
       "        vertical-align: middle;\n",
       "    }\n",
       "\n",
       "    .dataframe tbody tr th {\n",
       "        vertical-align: top;\n",
       "    }\n",
       "\n",
       "    .dataframe thead th {\n",
       "        text-align: right;\n",
       "    }\n",
       "</style>\n",
       "<table border=\"1\" class=\"dataframe\">\n",
       "  <thead>\n",
       "    <tr style=\"text-align: right;\">\n",
       "      <th></th>\n",
       "    </tr>\n",
       "  </thead>\n",
       "  <tbody>\n",
       "  </tbody>\n",
       "</table>\n",
       "</div>"
      ],
      "text/plain": [
       "Empty DataFrame\n",
       "Columns: []\n",
       "Index: []"
      ]
     },
     "execution_count": 8,
     "metadata": {},
     "output_type": "execute_result"
    }
   ],
   "source": [
    "api.get_open_positions()"
   ]
  },
  {
   "cell_type": "code",
   "execution_count": 9,
   "id": "29e4cd1c",
   "metadata": {},
   "outputs": [],
   "source": [
    "order = api.create_market_buy_order(symbol, 1)\n",
    "order = api.create_market_buy_order('GBP/USD', 2)"
   ]
  },
  {
   "cell_type": "code",
   "execution_count": 10,
   "id": "49b17113",
   "metadata": {},
   "outputs": [],
   "source": [
    "sel = ['tradeId', 'amountK', 'currency', 'grossPL', 'isBuy']"
   ]
  },
  {
   "cell_type": "code",
   "execution_count": 11,
   "id": "52c4c214",
   "metadata": {},
   "outputs": [
    {
     "data": {
      "text/html": [
       "<div>\n",
       "<style scoped>\n",
       "    .dataframe tbody tr th:only-of-type {\n",
       "        vertical-align: middle;\n",
       "    }\n",
       "\n",
       "    .dataframe tbody tr th {\n",
       "        vertical-align: top;\n",
       "    }\n",
       "\n",
       "    .dataframe thead th {\n",
       "        text-align: right;\n",
       "    }\n",
       "</style>\n",
       "<table border=\"1\" class=\"dataframe\">\n",
       "  <thead>\n",
       "    <tr style=\"text-align: right;\">\n",
       "      <th></th>\n",
       "      <th>tradeId</th>\n",
       "      <th>amountK</th>\n",
       "      <th>currency</th>\n",
       "      <th>grossPL</th>\n",
       "      <th>isBuy</th>\n",
       "    </tr>\n",
       "  </thead>\n",
       "  <tbody>\n",
       "    <tr>\n",
       "      <th>0</th>\n",
       "      <td>121043613</td>\n",
       "      <td>1</td>\n",
       "      <td>EUR/USD</td>\n",
       "      <td>-0.69814</td>\n",
       "      <td>True</td>\n",
       "    </tr>\n",
       "    <tr>\n",
       "      <th>1</th>\n",
       "      <td>121043614</td>\n",
       "      <td>1</td>\n",
       "      <td>GBP/USD</td>\n",
       "      <td>-1.30987</td>\n",
       "      <td>True</td>\n",
       "    </tr>\n",
       "  </tbody>\n",
       "</table>\n",
       "</div>"
      ],
      "text/plain": [
       "     tradeId  amountK currency  grossPL  isBuy\n",
       "0  121043613        1  EUR/USD -0.69814   True\n",
       "1  121043614        1  GBP/USD -1.30987   True"
      ]
     },
     "execution_count": 11,
     "metadata": {},
     "output_type": "execute_result"
    }
   ],
   "source": [
    "api.get_open_positions()[sel]"
   ]
  },
  {
   "cell_type": "code",
   "execution_count": 12,
   "id": "263f9b81",
   "metadata": {},
   "outputs": [],
   "source": [
    "order = api.create_market_sell_order(symbol, 1)"
   ]
  },
  {
   "cell_type": "code",
   "execution_count": 13,
   "id": "c2371ecb",
   "metadata": {},
   "outputs": [
    {
     "data": {
      "text/html": [
       "<div>\n",
       "<style scoped>\n",
       "    .dataframe tbody tr th:only-of-type {\n",
       "        vertical-align: middle;\n",
       "    }\n",
       "\n",
       "    .dataframe tbody tr th {\n",
       "        vertical-align: top;\n",
       "    }\n",
       "\n",
       "    .dataframe thead th {\n",
       "        text-align: right;\n",
       "    }\n",
       "</style>\n",
       "<table border=\"1\" class=\"dataframe\">\n",
       "  <thead>\n",
       "    <tr style=\"text-align: right;\">\n",
       "      <th></th>\n",
       "      <th>tradeId</th>\n",
       "      <th>amountK</th>\n",
       "      <th>currency</th>\n",
       "      <th>grossPL</th>\n",
       "      <th>isBuy</th>\n",
       "    </tr>\n",
       "  </thead>\n",
       "  <tbody>\n",
       "    <tr>\n",
       "      <th>0</th>\n",
       "      <td>121043613</td>\n",
       "      <td>1</td>\n",
       "      <td>EUR/USD</td>\n",
       "      <td>-0.69814</td>\n",
       "      <td>True</td>\n",
       "    </tr>\n",
       "    <tr>\n",
       "      <th>1</th>\n",
       "      <td>121043614</td>\n",
       "      <td>1</td>\n",
       "      <td>GBP/USD</td>\n",
       "      <td>-1.30987</td>\n",
       "      <td>True</td>\n",
       "    </tr>\n",
       "    <tr>\n",
       "      <th>2</th>\n",
       "      <td>121043615</td>\n",
       "      <td>1</td>\n",
       "      <td>EUR/USD</td>\n",
       "      <td>-0.69814</td>\n",
       "      <td>False</td>\n",
       "    </tr>\n",
       "  </tbody>\n",
       "</table>\n",
       "</div>"
      ],
      "text/plain": [
       "     tradeId  amountK currency  grossPL  isBuy\n",
       "0  121043613        1  EUR/USD -0.69814   True\n",
       "1  121043614        1  GBP/USD -1.30987   True\n",
       "2  121043615        1  EUR/USD -0.69814  False"
      ]
     },
     "execution_count": 13,
     "metadata": {},
     "output_type": "execute_result"
    }
   ],
   "source": [
    "api.get_open_positions()[sel]"
   ]
  },
  {
   "cell_type": "code",
   "execution_count": 14,
   "id": "19c0c9a6",
   "metadata": {},
   "outputs": [],
   "source": [
    "api.close_all_for_symbol(symbol)"
   ]
  },
  {
   "cell_type": "code",
   "execution_count": 15,
   "id": "45992081",
   "metadata": {},
   "outputs": [
    {
     "data": {
      "text/html": [
       "<div>\n",
       "<style scoped>\n",
       "    .dataframe tbody tr th:only-of-type {\n",
       "        vertical-align: middle;\n",
       "    }\n",
       "\n",
       "    .dataframe tbody tr th {\n",
       "        vertical-align: top;\n",
       "    }\n",
       "\n",
       "    .dataframe thead th {\n",
       "        text-align: right;\n",
       "    }\n",
       "</style>\n",
       "<table border=\"1\" class=\"dataframe\">\n",
       "  <thead>\n",
       "    <tr style=\"text-align: right;\">\n",
       "      <th></th>\n",
       "      <th>tradeId</th>\n",
       "      <th>amountK</th>\n",
       "      <th>currency</th>\n",
       "      <th>grossPL</th>\n",
       "      <th>isBuy</th>\n",
       "    </tr>\n",
       "  </thead>\n",
       "  <tbody>\n",
       "    <tr>\n",
       "      <th>0</th>\n",
       "      <td>121043614</td>\n",
       "      <td>1</td>\n",
       "      <td>GBP/USD</td>\n",
       "      <td>-1.30987</td>\n",
       "      <td>True</td>\n",
       "    </tr>\n",
       "  </tbody>\n",
       "</table>\n",
       "</div>"
      ],
      "text/plain": [
       "     tradeId  amountK currency  grossPL  isBuy\n",
       "0  121043614        1  GBP/USD -1.30987   True"
      ]
     },
     "execution_count": 15,
     "metadata": {},
     "output_type": "execute_result"
    }
   ],
   "source": [
    "api.get_open_positions()[sel]"
   ]
  },
  {
   "cell_type": "code",
   "execution_count": 16,
   "id": "9a2c9faf",
   "metadata": {},
   "outputs": [],
   "source": [
    "api.close_all()"
   ]
  },
  {
   "cell_type": "code",
   "execution_count": 17,
   "id": "f95b1782",
   "metadata": {},
   "outputs": [
    {
     "data": {
      "text/html": [
       "<div>\n",
       "<style scoped>\n",
       "    .dataframe tbody tr th:only-of-type {\n",
       "        vertical-align: middle;\n",
       "    }\n",
       "\n",
       "    .dataframe tbody tr th {\n",
       "        vertical-align: top;\n",
       "    }\n",
       "\n",
       "    .dataframe thead th {\n",
       "        text-align: right;\n",
       "    }\n",
       "</style>\n",
       "<table border=\"1\" class=\"dataframe\">\n",
       "  <thead>\n",
       "    <tr style=\"text-align: right;\">\n",
       "      <th></th>\n",
       "      <th>t</th>\n",
       "      <th>ratePrecision</th>\n",
       "      <th>tradeId</th>\n",
       "      <th>accountName</th>\n",
       "      <th>accountId</th>\n",
       "      <th>roll</th>\n",
       "      <th>com</th>\n",
       "      <th>open</th>\n",
       "      <th>valueDate</th>\n",
       "      <th>grossPL</th>\n",
       "      <th>...</th>\n",
       "      <th>usedMargin</th>\n",
       "      <th>orderId</th>\n",
       "      <th>OpenOrderRequestTXT</th>\n",
       "      <th>OpenOrderReqID</th>\n",
       "      <th>TradeIDOrigin</th>\n",
       "      <th>child_trailingStop</th>\n",
       "      <th>child_trailing</th>\n",
       "      <th>stop</th>\n",
       "      <th>stopMove</th>\n",
       "      <th>limit</th>\n",
       "    </tr>\n",
       "  </thead>\n",
       "  <tbody>\n",
       "    <tr>\n",
       "      <th>0</th>\n",
       "      <td>1</td>\n",
       "      <td>5</td>\n",
       "      <td>121043614</td>\n",
       "      <td>00856873</td>\n",
       "      <td>856873</td>\n",
       "      <td>0</td>\n",
       "      <td>0</td>\n",
       "      <td>1.37598</td>\n",
       "      <td></td>\n",
       "      <td>-1.30987</td>\n",
       "      <td>...</td>\n",
       "      <td>16.65</td>\n",
       "      <td>214137933</td>\n",
       "      <td>None</td>\n",
       "      <td>Request-196067</td>\n",
       "      <td>None</td>\n",
       "      <td>none</td>\n",
       "      <td>-1</td>\n",
       "      <td>0</td>\n",
       "      <td>0</td>\n",
       "      <td>0</td>\n",
       "    </tr>\n",
       "  </tbody>\n",
       "</table>\n",
       "<p>1 rows × 28 columns</p>\n",
       "</div>"
      ],
      "text/plain": [
       "   t  ratePrecision    tradeId accountName accountId  roll  com     open  \\\n",
       "0  1              5  121043614    00856873    856873     0    0  1.37598   \n",
       "\n",
       "  valueDate  grossPL  ...  usedMargin    orderId  OpenOrderRequestTXT  \\\n",
       "0           -1.30987  ...       16.65  214137933                 None   \n",
       "\n",
       "   OpenOrderReqID  TradeIDOrigin  child_trailingStop  child_trailing stop  \\\n",
       "0  Request-196067           None                none              -1    0   \n",
       "\n",
       "   stopMove limit  \n",
       "0         0     0  \n",
       "\n",
       "[1 rows x 28 columns]"
      ]
     },
     "execution_count": 17,
     "metadata": {},
     "output_type": "execute_result"
    }
   ],
   "source": [
    "api.get_open_positions()"
   ]
  },
  {
   "cell_type": "markdown",
   "id": "c1cbe614",
   "metadata": {},
   "source": [
    "The function below displays useful information for your accounts."
   ]
  },
  {
   "cell_type": "code",
   "execution_count": 18,
   "id": "9b519d4e",
   "metadata": {},
   "outputs": [
    {
     "data": {
      "text/html": [
       "<div>\n",
       "<style scoped>\n",
       "    .dataframe tbody tr th:only-of-type {\n",
       "        vertical-align: middle;\n",
       "    }\n",
       "\n",
       "    .dataframe tbody tr th {\n",
       "        vertical-align: top;\n",
       "    }\n",
       "\n",
       "    .dataframe thead th {\n",
       "        text-align: right;\n",
       "    }\n",
       "</style>\n",
       "<table border=\"1\" class=\"dataframe\">\n",
       "  <thead>\n",
       "    <tr style=\"text-align: right;\">\n",
       "      <th></th>\n",
       "      <th>0</th>\n",
       "    </tr>\n",
       "  </thead>\n",
       "  <tbody>\n",
       "    <tr>\n",
       "      <th>t</th>\n",
       "      <td>6</td>\n",
       "    </tr>\n",
       "    <tr>\n",
       "      <th>ratePrecision</th>\n",
       "      <td>0</td>\n",
       "    </tr>\n",
       "    <tr>\n",
       "      <th>accountId</th>\n",
       "      <td>856873</td>\n",
       "    </tr>\n",
       "    <tr>\n",
       "      <th>balance</th>\n",
       "      <td>49993.18</td>\n",
       "    </tr>\n",
       "    <tr>\n",
       "      <th>usdMr</th>\n",
       "      <td>0</td>\n",
       "    </tr>\n",
       "    <tr>\n",
       "      <th>mc</th>\n",
       "      <td>N</td>\n",
       "    </tr>\n",
       "    <tr>\n",
       "      <th>mcDate</th>\n",
       "      <td></td>\n",
       "    </tr>\n",
       "    <tr>\n",
       "      <th>accountName</th>\n",
       "      <td>00856873</td>\n",
       "    </tr>\n",
       "    <tr>\n",
       "      <th>usdMr3</th>\n",
       "      <td>0</td>\n",
       "    </tr>\n",
       "    <tr>\n",
       "      <th>hedging</th>\n",
       "      <td>Y</td>\n",
       "    </tr>\n",
       "    <tr>\n",
       "      <th>usableMargin3</th>\n",
       "      <td>49993.18</td>\n",
       "    </tr>\n",
       "    <tr>\n",
       "      <th>usableMarginPerc</th>\n",
       "      <td>100</td>\n",
       "    </tr>\n",
       "    <tr>\n",
       "      <th>usableMargin3Perc</th>\n",
       "      <td>100</td>\n",
       "    </tr>\n",
       "    <tr>\n",
       "      <th>equity</th>\n",
       "      <td>49993.18</td>\n",
       "    </tr>\n",
       "    <tr>\n",
       "      <th>usableMargin</th>\n",
       "      <td>49993.18</td>\n",
       "    </tr>\n",
       "    <tr>\n",
       "      <th>bus</th>\n",
       "      <td>1000</td>\n",
       "    </tr>\n",
       "    <tr>\n",
       "      <th>dayPL</th>\n",
       "      <td>-6.82</td>\n",
       "    </tr>\n",
       "    <tr>\n",
       "      <th>grossPL</th>\n",
       "      <td>0</td>\n",
       "    </tr>\n",
       "  </tbody>\n",
       "</table>\n",
       "</div>"
      ],
      "text/plain": [
       "                          0\n",
       "t                         6\n",
       "ratePrecision             0\n",
       "accountId            856873\n",
       "balance            49993.18\n",
       "usdMr                     0\n",
       "mc                        N\n",
       "mcDate                     \n",
       "accountName        00856873\n",
       "usdMr3                    0\n",
       "hedging                   Y\n",
       "usableMargin3      49993.18\n",
       "usableMarginPerc        100\n",
       "usableMargin3Perc       100\n",
       "equity             49993.18\n",
       "usableMargin       49993.18\n",
       "bus                    1000\n",
       "dayPL                 -6.82\n",
       "grossPL                   0"
      ]
     },
     "execution_count": 18,
     "metadata": {},
     "output_type": "execute_result"
    }
   ],
   "source": [
    "api.get_accounts().T"
   ]
  },
  {
   "cell_type": "code",
   "execution_count": null,
   "id": "76037fba",
   "metadata": {},
   "outputs": [],
   "source": []
  }
 ],
 "metadata": {
  "kernelspec": {
   "display_name": "Python 3",
   "language": "python",
   "name": "python3"
  },
  "language_info": {
   "codemirror_mode": {
    "name": "ipython",
    "version": 3
   },
   "file_extension": ".py",
   "mimetype": "text/x-python",
   "name": "python",
   "nbconvert_exporter": "python",
   "pygments_lexer": "ipython3",
   "version": "3.8.8"
  }
 },
 "nbformat": 4,
 "nbformat_minor": 5
}
